{
  "nbformat": 4,
  "nbformat_minor": 5,
  "metadata": {
    "kernelspec": {
      "display_name": "Python 3",
      "language": "python",
      "name": "python3"
    },
    "language_info": {
      "codemirror_mode": {
        "name": "ipython",
        "version": 3
      },
      "file_extension": ".py",
      "mimetype": "text/x-python",
      "name": "python",
      "nbconvert_exporter": "python",
      "pygments_lexer": "ipython3",
      "version": "3.8.3"
    },
    "colab": {
      "name": "robotics_week3.ipynb",
      "provenance": [],
      "collapsed_sections": []
    }
  },
  "cells": [
    {
      "cell_type": "markdown",
      "metadata": {
        "id": "78e2272d"
      },
      "source": [
        "# Robotics Week 3 "
      ],
      "id": "78e2272d"
    },
    {
      "cell_type": "markdown",
      "metadata": {
        "id": "5c6a27ae"
      },
      "source": [
        "## Part 1 Functions\n",
        "\n",
        "You might have noticed that some of the code that you have been writing is being used again and again. \n",
        "\n",
        "You are starting to make **building blocks** that you can use and re-use. \n",
        "\n",
        "Some building blocks"
      ],
      "id": "5c6a27ae"
    },
    {
      "cell_type": "markdown",
      "metadata": {
        "id": "5tNOH5DdFgqx"
      },
      "source": [
        "![lego.jpeg](data:image/jpeg;base64,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)"
      ],
      "id": "5tNOH5DdFgqx"
    },
    {
      "cell_type": "markdown",
      "metadata": {
        "id": "GQYF_SayFqJx"
      },
      "source": [
        "\n",
        "Are easier to make things out of than others!\n",
        "\n",
        "![obelix.jpeg](data:image/jpeg;base64,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)\n",
        "\n",
        "One way of making your code more re-usable is to use something called **functions**"
      ],
      "id": "GQYF_SayFqJx"
    },
    {
      "cell_type": "markdown",
      "metadata": {
        "id": "4a8d6601"
      },
      "source": [
        "For example, take the case of adding two numbers together. "
      ],
      "id": "4a8d6601"
    },
    {
      "cell_type": "code",
      "metadata": {
        "id": "27ac1666"
      },
      "source": [
        "a = 2\n",
        "b = 3\n",
        "c = 2 + 3\n",
        "print(c)"
      ],
      "id": "27ac1666",
      "execution_count": null,
      "outputs": []
    },
    {
      "cell_type": "markdown",
      "metadata": {
        "id": "c513e6ed"
      },
      "source": [
        "You might need to keep doing this"
      ],
      "id": "c513e6ed"
    },
    {
      "cell_type": "code",
      "metadata": {
        "id": "4f53ace5"
      },
      "source": [
        "a = 10\n",
        "b = 15\n",
        "c = 10 + 15\n",
        "print(c)"
      ],
      "id": "4f53ace5",
      "execution_count": null,
      "outputs": []
    },
    {
      "cell_type": "markdown",
      "metadata": {
        "id": "1b0c6b61"
      },
      "source": [
        "So you can make a _function_ to help you you"
      ],
      "id": "1b0c6b61"
    },
    {
      "cell_type": "code",
      "metadata": {
        "id": "79e09497"
      },
      "source": [
        "def add(x, y):\n",
        "    return x+y"
      ],
      "id": "79e09497",
      "execution_count": null,
      "outputs": []
    },
    {
      "cell_type": "markdown",
      "metadata": {
        "id": "151b6ebc"
      },
      "source": [
        "If you are following this OK you probably know what the is printed before you press _play_ on the next code block"
      ],
      "id": "151b6ebc"
    },
    {
      "cell_type": "code",
      "metadata": {
        "id": "d296de54"
      },
      "source": [
        "c = add(7, 12)\n",
        "print(c)"
      ],
      "id": "d296de54",
      "execution_count": null,
      "outputs": []
    },
    {
      "cell_type": "markdown",
      "metadata": {
        "id": "4c2606a0"
      },
      "source": [
        "Now you can try see if you can write a _function_ to subtract two numbers"
      ],
      "id": "4c2606a0"
    },
    {
      "cell_type": "code",
      "metadata": {
        "id": "827f68ed"
      },
      "source": [
        "def subtract(x, y):\n",
        "    return ### YOUR CODE HERE"
      ],
      "id": "827f68ed",
      "execution_count": null,
      "outputs": []
    },
    {
      "cell_type": "markdown",
      "metadata": {
        "id": "27932538"
      },
      "source": [
        "Now try to think how you can apply this to the problem of the Robot. What were we doing with the robot in the last Saturday session? Can you think of some code that kept on getting written that could be useful time and time again? The will be printed in the secret message hidden in the code below. Try to think of two useful functions to write before running the code!"
      ],
      "id": "27932538"
    },
    {
      "cell_type": "code",
      "metadata": {
        "id": "51695e71"
      },
      "source": [
        "import codecs\n",
        "print(codecs.decode('1.Zbivat sbejneq n qvfgnapr\\n2.Gheavat na natyr', 'rot13'))"
      ],
      "id": "51695e71",
      "execution_count": null,
      "outputs": []
    },
    {
      "cell_type": "markdown",
      "metadata": {
        "id": "189e762b"
      },
      "source": [
        "## Part 2 Configuration\n",
        "\n",
        "When you have a program it is often useful to give it some configuration parameters.\n",
        "\n",
        "These make the program run a particular way for the user, or the environment that the user is working in. \n",
        "\n",
        "Juliette discovered this in the experiments to try and get the robot to turn 180 degrees.\n",
        "\n",
        "By a process of Trial and Error she worked out how much the robot needed to turn to work at 180 degrees.\n",
        "\n",
        "It is really useful to have this as a clear configuration parameter and in Python we normally write this variable in capitals."
      ],
      "id": "189e762b"
    },
    {
      "cell_type": "code",
      "metadata": {
        "id": "c874fa9a"
      },
      "source": [
        "CONFIG_VARIABLE = 100"
      ],
      "id": "c874fa9a",
      "execution_count": null,
      "outputs": []
    },
    {
      "cell_type": "markdown",
      "metadata": {
        "id": "55c3da1b"
      },
      "source": [
        "Our problem with the Robot is that it is in Development and we are using it on different surfaces. So the steps needed to turn an angle or move a certain distance are going to be changing.\n",
        "\n",
        "To make the code easy to read and easy to change it is good to have these as configuration parameters."
      ],
      "id": "55c3da1b"
    },
    {
      "cell_type": "markdown",
      "metadata": {
        "id": "377956b0"
      },
      "source": [
        "## Part 3 Bringing it together Functions + Configuration"
      ],
      "id": "377956b0"
    },
    {
      "cell_type": "markdown",
      "metadata": {
        "id": "eef8542f"
      },
      "source": [
        "Here is an example. Imagine that you are making estimates of measurement using hand-spans. You are growing so your hand-span is changing all the time. You can write some code to make an estimate of the size of objects with your hand-span as a configuration."
      ],
      "id": "eef8542f"
    },
    {
      "cell_type": "markdown",
      "metadata": {
        "id": "4d0d7eda"
      },
      "source": [
        "**What would the config variable be in this case?**\n",
        "\n",
        "The answer is your hand-span of course so here is the function for this example"
      ],
      "id": "4d0d7eda"
    },
    {
      "cell_type": "code",
      "metadata": {
        "id": "f988750c"
      },
      "source": [
        "HAND_SPAN = 10.2 ## my handspan measure in cm\n",
        "\n",
        "def measure_object(no_of_hand_spans):\n",
        "    return HAND_SPAN * no_of_hand_spans"
      ],
      "id": "f988750c",
      "execution_count": null,
      "outputs": []
    },
    {
      "cell_type": "markdown",
      "metadata": {
        "id": "27e18c3a"
      },
      "source": [
        "So when you measure a desk and it takes eight and a half hand spans just call the function"
      ],
      "id": "27e18c3a"
    },
    {
      "cell_type": "code",
      "metadata": {
        "id": "f0f20ad3"
      },
      "source": [
        "desk_length = measure_object(8.5)\n",
        "print(f\"The length of the desk is: {desk_length:.1f} cm\")"
      ],
      "id": "f0f20ad3",
      "execution_count": null,
      "outputs": []
    },
    {
      "cell_type": "markdown",
      "metadata": {
        "id": "701df5e0"
      },
      "source": [
        "Applying this to moving the Robot the function might look like this"
      ],
      "id": "701df5e0"
    },
    {
      "cell_type": "code",
      "metadata": {
        "id": "993ebdf3"
      },
      "source": [
        "SLEEP_TIME = 3\n",
        "\n",
        "def move_forward(no_of_meters):\n",
        "    pass"
      ],
      "id": "993ebdf3",
      "execution_count": null,
      "outputs": []
    },
    {
      "cell_type": "markdown",
      "metadata": {
        "id": "1ktLSz4GGc2o"
      },
      "source": [
        "Hopefully you can see the power of **functions**. If you get the building blocks right there is no limit to what you can no\n",
        "\n",
        "![lego_car.jpeg](data:image/jpeg;base64,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)"
      ],
      "id": "1ktLSz4GGc2o"
    }
  ]
}
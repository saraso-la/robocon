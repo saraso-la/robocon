{
  "nbformat": 4,
  "nbformat_minor": 5,
  "metadata": {
    "kernelspec": {
      "display_name": "Python 3",
      "language": "python",
      "name": "python3"
    },
    "language_info": {
      "codemirror_mode": {
        "name": "ipython",
        "version": 3
      },
      "file_extension": ".py",
      "mimetype": "text/x-python",
      "name": "python",
      "nbconvert_exporter": "python",
      "pygments_lexer": "ipython3",
      "version": "3.8.3"
    },
    "colab": {
      "name": "robotics_week_2.ipynb",
      "provenance": [],
      "collapsed_sections": []
    }
  },
  "cells": [
    {
      "cell_type": "markdown",
      "metadata": {
        "id": "4cd1c19f"
      },
      "source": [
        "# Week 2 Simulations"
      ],
      "id": "4cd1c19f"
    },
    {
      "cell_type": "markdown",
      "metadata": {
        "id": "076a9702"
      },
      "source": [
        "Sometimes it is helpful to make a simulation so we can practice what we think we will see in real life more quickly.\n",
        "\n",
        "Your robot needs to find the _Reward_. You need to program the Brain so that it can look for it and move towards it. \n",
        "\n",
        "In the laboratory on Saturday you programmed the Brain to `see` (recognise a Marker) and `move` turn the wheels on the Motor.\n",
        "\n",
        "To find the _Reward_ you need to combine the `see` and `move` with the control flow to program the brain."
      ],
      "id": "076a9702"
    },
    {
      "cell_type": "markdown",
      "metadata": {
        "id": "FoLKFxVZgtN0"
      },
      "source": [
        "## Jupyter Notebooks and Colab\n"
      ],
      "id": "FoLKFxVZgtN0"
    },
    {
      "cell_type": "markdown",
      "metadata": {
        "id": "JzjMCQwngyvf"
      },
      "source": [
        "I have put this exercise on a web-page that allows you to read and run the code. \n",
        "\n",
        "The idea is that you step through each point. When there is code there is a little _play_ arrow in the top left corner. Pressing this runs the code and the output is shown below.\n",
        "\n",
        "It is important to run each step (without errors) before moving to the next stage."
      ],
      "id": "JzjMCQwngyvf"
    },
    {
      "cell_type": "markdown",
      "metadata": {
        "id": "ca6a7224"
      },
      "source": [
        "## Fakes "
      ],
      "id": "ca6a7224"
    },
    {
      "cell_type": "markdown",
      "metadata": {
        "id": "eadbd0ff"
      },
      "source": [
        "**Programmers** use _Fake_ bits of code to run simulations so they can see what is going on more easily. (Sometimes these are called _Stubs_). Here is an example of a simple _Fake_ from an example you wrote last week."
      ],
      "id": "eadbd0ff"
    },
    {
      "cell_type": "markdown",
      "metadata": {
        "id": "bc3630d7"
      },
      "source": [
        "First the _stopwatch_ example that you wrote in the first week exercise, this is programmed exaclty as you did it.\n",
        "\n",
        "It runs at the expected speed, using the proper Python `time` library and without the _Fake_."
      ],
      "id": "bc3630d7"
    },
    {
      "cell_type": "code",
      "metadata": {
        "id": "e16327f1"
      },
      "source": [
        "import time\n",
        "for count in range(1,11):\n",
        "    time.sleep(1)\n",
        "    print(count)"
      ],
      "id": "e16327f1",
      "execution_count": null,
      "outputs": []
    },
    {
      "cell_type": "markdown",
      "metadata": {
        "id": "e89fa347"
      },
      "source": [
        "I am going to make a _Fake_ for `time`.\n",
        "\n",
        "Don't worry about the `FakeTime` code to start with, simply run it and see what happens!"
      ],
      "id": "e89fa347"
    },
    {
      "cell_type": "code",
      "metadata": {
        "id": "6470867a"
      },
      "source": [
        "class FakeTime:\n",
        "    def sleep(self, no_of_seconds):\n",
        "        print(f\"I am not going to sleep for {no_of_seconds} second. I am a FAKE!\")\n",
        "        \n",
        "time = FakeTime()\n",
        "\n",
        "for count in range(1,11):\n",
        "    time.sleep(1)\n",
        "    print(count)"
      ],
      "id": "6470867a",
      "execution_count": null,
      "outputs": []
    },
    {
      "cell_type": "markdown",
      "metadata": {
        "id": "90d1b7ee"
      },
      "source": [
        "Did you see what happened there? \n",
        "\n",
        "Although the control flow code was the same, the program ran **much** quicker that the first snippet you ran.\n",
        "\n",
        "\n",
        "This is because it was using the _Fake_ `time` rather than the real Python `time` library.\n",
        "\n",
        "\n"
      ],
      "id": "90d1b7ee"
    },
    {
      "cell_type": "markdown",
      "metadata": {
        "id": "9ae320c5"
      },
      "source": [
        "## A Fake Robot"
      ],
      "id": "9ae320c5"
    },
    {
      "cell_type": "markdown",
      "metadata": {
        "id": "410e2d9d"
      },
      "source": [
        "\n",
        "If we want to make a simulation for Finding the _Reward_, then we need to _Fake_ the Robot.\n",
        "\n",
        "Remember how Will explained about the `Robot` library to you on the white board? \n",
        "\n",
        "Also try to remember the code that you wrote to control the Robot itself (before the mechanical issues!).\n",
        "\n",
        "You used two of the Robots super-powers:\n",
        "\n",
        "1. `motors`\n",
        "2. `see`\n",
        "\n",
        "Here is documentation for seeing and moving the **real** Robot:\n",
        "\n",
        "https://hr-robocon.org/docs/hello-vision.html\n",
        "\n",
        "https://hr-robocon.org/docs/hello-motors.html\n",
        "\n",
        "We will fake these so that you can practice controlling a Robot.\n",
        "You can start to become a code-ninja for controlling Robots, even if you don't have a real Robot to hand.\n",
        "\n",
        "So let's simulate! \n",
        "\n",
        "First we need some code for a _Fake_ Robot. \n",
        "This is a bit complicated so don't worry too much.\n",
        "\n",
        "Then there is an example that shows how we control the _Fake_ Robot.\n",
        "\n",
        "Finally there will be a small challenge exercise for you to see if you can \"control\" it."
      ],
      "id": "410e2d9d"
    },
    {
      "cell_type": "markdown",
      "metadata": {
        "id": "b8947a8d"
      },
      "source": [
        "#### The Fake Robot\n",
        "\n",
        "Don't worry about this code! \n",
        "\n",
        "The only thing you need to know is that it has two methods.\n",
        "\n",
        "1. `see`\n",
        "2. `motors` \n",
        "\n",
        "They look a bit like the real `Robot` library. \n",
        "\n",
        "It is not a fully functioning Fake Robot but it gives you enough for a simple example to get some practice programming and simulation.\n",
        "\n",
        "Make sure you _run_ this code because the next steps will need it."
      ],
      "id": "b8947a8d"
    },
    {
      "cell_type": "code",
      "metadata": {
        "id": "95b66e8e"
      },
      "source": [
        "class FakeRobot:\n",
        "    \n",
        "    def __init__(self):\n",
        "        print(\"Making a FakeRobot\")\n",
        "        class FakeMotors():\n",
        "            motors_moved = [0,0]\n",
        "            def __setitem__(self, index, value):\n",
        "                idx = index-1\n",
        "                print(f\"Moving motor{index} at speed {value}\")\n",
        "                if value > 0:\n",
        "                    increment = 1\n",
        "                else:\n",
        "                    increment = -1\n",
        "                self.motors_moved[index-1] += increment\n",
        "        self.motors = FakeMotors()\n",
        "        \n",
        "    def _delta_move(self):\n",
        "        return abs(self.motors.motors_moved[1] - self.motors.motors_moved[0])\n",
        "\n",
        "    def see(self):\n",
        "        if self._delta_move() > 5:\n",
        "            #If the difference between the amount motor1 has moved and motor2\n",
        "            #has moved is big enough then we have turned enough to see a marker\n",
        "            return ['marker1']\n",
        "        return []\n",
        "    \n",
        "\n",
        "robot = FakeRobot()"
      ],
      "id": "95b66e8e",
      "execution_count": null,
      "outputs": []
    },
    {
      "cell_type": "markdown",
      "metadata": {
        "id": "71e54c73"
      },
      "source": [
        "Here is an example that moves the fake robot forward a step then looks for markers.\n",
        "\n",
        "Take a good look at what this code does because you will need the `motors` and `see` to run your own simulation."
      ],
      "id": "71e54c73"
    },
    {
      "cell_type": "code",
      "metadata": {
        "id": "9e1ee65a"
      },
      "source": [
        "robot = FakeRobot()\n",
        "robot.motors[1] = 50\n",
        "robot.motors[2] = 50\n",
        "markers = robot.see()\n",
        "print(\"The Robot can see \" + str(len(markers)) + \" markers\")"
      ],
      "id": "9e1ee65a",
      "execution_count": null,
      "outputs": []
    },
    {
      "cell_type": "markdown",
      "metadata": {
        "id": "38rgF6x6ezIP"
      },
      "source": [
        "###Writing Code in Colab"
      ],
      "id": "38rgF6x6ezIP"
    },
    {
      "cell_type": "markdown",
      "metadata": {
        "id": "-LmWnW2qcHO-"
      },
      "source": [
        "You have done a lot of reading and ran some code. \n",
        "\n",
        "The great thing about Colab is that you can write some code of your own. So this first example will show you how we can do this.\n",
        "\n",
        "To make this really clear here is a **before** and **after** step with the answer given for you."
      ],
      "id": "-LmWnW2qcHO-"
    },
    {
      "cell_type": "markdown",
      "metadata": {
        "id": "wQlPTPI5eycr"
      },
      "source": [
        "First I will give you an example with some comments saying what to do:\n"
      ],
      "id": "wQlPTPI5eycr"
    },
    {
      "cell_type": "code",
      "metadata": {
        "id": "QwJdSwMffLBS"
      },
      "source": [
        "for i in range(10):\n",
        "  # Print robot \n",
        "  #\n",
        "  # YOUR CODE HERE\n",
        "  # \n",
        "  pass"
      ],
      "id": "QwJdSwMffLBS",
      "execution_count": null,
      "outputs": []
    },
    {
      "cell_type": "markdown",
      "metadata": {
        "id": "ztu4SAFYfYmf"
      },
      "source": [
        "Then you add the code instead of the comment and run it. \n",
        "For the example above you edit the code to look like this:"
      ],
      "id": "ztu4SAFYfYmf"
    },
    {
      "cell_type": "code",
      "metadata": {
        "id": "Wg_ITMSzfg3x"
      },
      "source": [
        "for i in range(10):\n",
        "    print(\"robot\")"
      ],
      "id": "Wg_ITMSzfg3x",
      "execution_count": null,
      "outputs": []
    },
    {
      "cell_type": "markdown",
      "metadata": {
        "id": "bU7cY4NafstM"
      },
      "source": [
        "### Over to you... Finding the Marker"
      ],
      "id": "bU7cY4NafstM"
    },
    {
      "cell_type": "markdown",
      "metadata": {
        "id": "e4ddf844"
      },
      "source": [
        "Now it is your turn see if you can move the `FakeRobot` until it sees a marker.\n",
        "\n",
        "For this we will use the Python looping that you learned. I have written the loop to get you started. \n",
        "\n",
        "Inside the loop you need to turn the robot with the motors and see if there are any markers.\n",
        "\n",
        "If there are markers `print` the exclamation _\"found marker!!\"_ and stop looking.\n",
        "\n",
        "Clue to stop a loop you need the `break` statement\n",
        "\n",
        "https://docs.python.org/3/tutorial/controlflow.html"
      ],
      "id": "e4ddf844"
    },
    {
      "cell_type": "code",
      "metadata": {
        "id": "BG4eEzzGcFBD"
      },
      "source": [
        ""
      ],
      "id": "BG4eEzzGcFBD",
      "execution_count": null,
      "outputs": []
    },
    {
      "cell_type": "code",
      "metadata": {
        "id": "d606e77e"
      },
      "source": [
        "robot = FakeRobot()\n",
        "\n",
        "for step in range(10):\n",
        "    #Turn the FakeRobot by controlling the motors\n",
        "    #Look at the example above on moving the FakeRobot \n",
        "    #And remember how the Robot turns!\n",
        "    \n",
        "    #\n",
        "    #YOUR CODE HERE\n",
        "    #\n",
        "\n",
        "    #Now use the FakeRobots pretend marker vision so count the markers\n",
        "    #Look at example above on counting the markers\n",
        "    \n",
        "    #\n",
        "    #YOUR CODE HERE\n",
        "    #\n",
        "    print(f\"Finished step {step} no markers found :-(\")"
      ],
      "id": "d606e77e",
      "execution_count": null,
      "outputs": []
    },
    {
      "cell_type": "markdown",
      "metadata": {
        "id": "Nn0h9LgLgK4o"
      },
      "source": [
        "Did you get the example above to work? \n",
        "\n",
        "Don't worry if you didn't, programming is hard! There are a lot of things happening and it is often easier to learn together as a team.\n"
      ],
      "id": "Nn0h9LgLgK4o"
    },
    {
      "cell_type": "code",
      "metadata": {
        "id": "e49f0aab"
      },
      "source": [
        ""
      ],
      "id": "e49f0aab",
      "execution_count": null,
      "outputs": []
    }
  ]
}